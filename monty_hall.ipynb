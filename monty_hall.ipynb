{
 "cells": [
  {
   "cell_type": "markdown",
   "metadata": {},
   "source": [
    "Monty Hall dillema"
   ]
  },
  {
   "cell_type": "code",
   "execution_count": 40,
   "metadata": {},
   "outputs": [],
   "source": [
    "\n",
    "import random\n"
   ]
  },
  {
   "cell_type": "code",
   "execution_count": 41,
   "metadata": {},
   "outputs": [],
   "source": [
    "#Setting number of doors\n",
    "num_door=3\n",
    "#number of iteration\n",
    "num_it=1000000"
   ]
  },
  {
   "cell_type": "code",
   "execution_count": 43,
   "metadata": {},
   "outputs": [
    {
     "name": "stdout",
     "output_type": "stream",
     "text": [
      "Probability is 66.6751 %\n"
     ]
    }
   ],
   "source": [
    "score =0\n",
    "for i in range(num_it): \n",
    "    #select choice\n",
    "    choice=random.randint(1,num_door)\n",
    "    answer=random.randint(1,num_door)\n",
    "    #change choice\n",
    "    if choice == answer:\n",
    "        pass\n",
    "    elif choice != answer:\n",
    "        score += 1\n",
    "\n",
    "print('Probability is', score/num_it*100, '%')"
   ]
  }
 ],
 "metadata": {
  "kernelspec": {
   "display_name": "Python 3.7.13 ('inpainting_versionmatch')",
   "language": "python",
   "name": "python3"
  },
  "language_info": {
   "codemirror_mode": {
    "name": "ipython",
    "version": 3
   },
   "file_extension": ".py",
   "mimetype": "text/x-python",
   "name": "python",
   "nbconvert_exporter": "python",
   "pygments_lexer": "ipython3",
   "version": "3.7.13"
  },
  "orig_nbformat": 4,
  "vscode": {
   "interpreter": {
    "hash": "b0eb784ac2bcdb94847997efed1b33286f0594935a19bf0040e57b3ee6bd5f7e"
   }
  }
 },
 "nbformat": 4,
 "nbformat_minor": 2
}
